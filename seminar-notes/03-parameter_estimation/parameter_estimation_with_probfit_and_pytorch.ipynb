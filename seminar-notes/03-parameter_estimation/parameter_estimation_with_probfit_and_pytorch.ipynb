{
 "cells": [
  {
   "cell_type": "code",
   "execution_count": 1,
   "metadata": {},
   "outputs": [],
   "source": [
    "from matplotlib import pyplot as plt\n",
    "import numpy as np\n",
    "\n",
    "# сгенерируем выборку из двух нормальных распределений\n",
    "\n",
    "# задаём параметры смеси\n",
    "N = 10000\n",
    "mu_1, sigma_1 = 3, 2\n",
    "mu_2, sigma_2 = -5, 2\n",
    "p = 0.3"
   ]
  },
  {
   "cell_type": "code",
   "execution_count": 2,
   "metadata": {},
   "outputs": [],
   "source": [
    "# два распределения\n",
    "dist_1 = np.random.randn(N) * sigma_1 + mu_1\n",
    "dist_2 = np.random.randn(N) * sigma_2 + mu_2"
   ]
  },
  {
   "cell_type": "code",
   "execution_count": 3,
   "metadata": {},
   "outputs": [],
   "source": [
    "# смешиваем их\n",
    "mask = np.random.choice([0, 1], p=[p, 1 - p], size=N)\n",
    "dist = dist_1 * mask + dist_2 * (1 - mask)"
   ]
  },
  {
   "cell_type": "code",
   "execution_count": 4,
   "metadata": {},
   "outputs": [
    {
     "data": {
      "image/png": "[encoded data removed]",
      "text/plain": [
       "<Figure size 432x288 with 1 Axes>"
      ]
     },
     "metadata": {},
     "output_type": "display_data"
    }
   ],
   "source": [
    "plt.hist(dist, bins=100);"
   ]
  },
  {
   "cell_type": "markdown",
   "metadata": {},
   "source": [
    "## Пример фитирования с probfit"
   ]
  },
  {
   "cell_type": "raw",
   "metadata": {},
   "source": [
    "!pip install git+https://github.com/iminuit/probfit"
   ]
  },
  {
   "cell_type": "code",
   "execution_count": 5,
   "metadata": {},
   "outputs": [],
   "source": [
    "from probfit import AddPdf, gaussian, Normalized, AddPdfNorm, UnbinnedLH, BinnedLH\n",
    "from iminuit import Minuit"
   ]
  },
  {
   "cell_type": "code",
   "execution_count": 6,
   "metadata": {},
   "outputs": [],
   "source": [
    "gaussian?"
   ]
  },
  {
   "cell_type": "code",
   "execution_count": 7,
   "metadata": {},
   "outputs": [],
   "source": [
    "# задаём функции, которые считают pdf в точке x\n",
    "def gaussian_one(x, mean_1, sigma_1):\n",
    "    return gaussian(x, mean_1, sigma_1)\n",
    "\n",
    "# гауссово распределение задаётся два раза одинаковым образом\n",
    "# чтобы имена переменных были разных\n",
    "def gaussian_two(x, mean_2, sigma_2):\n",
    "    return gaussian(x, mean_2, sigma_2)\n",
    "\n",
    "# AddPdfNorm складывает распределения в данному случе в результате будет\n",
    "# pdf = N(x|mean_1, sigma_1) + N(x|mean_2, sigma_2)\n",
    "pdf = AddPdfNorm(gaussian_one, gaussian_two, facname=['prob'])"
   ]
  },
  {
   "cell_type": "code",
   "execution_count": 8,
   "metadata": {},
   "outputs": [
    {
     "data": {
      "text/plain": [
       "34676.58380518743"
      ]
     },
     "execution_count": 8,
     "metadata": {},
     "output_type": "execute_result"
    }
   ],
   "source": [
    "# UnbinnedLH берёт pdf и данные и считает log-likelihood \n",
    "unbinned_likelihood = UnbinnedLH(pdf, dist)\n",
    "unbinned_likelihood(3, 2, -5, 3, 0.1)"
   ]
  },
  {
   "cell_type": "code",
   "execution_count": 9,
   "metadata": {},
   "outputs": [],
   "source": [
    "# начальное приближение для переменных\n",
    "init = dict(\n",
    "    mean_1=1,\n",
    "    sigma_1=1,\n",
    "    mean_2=-1,\n",
    "    sigma_2=1,\n",
    "    prob=0.5,\n",
    ")\n",
    "\n",
    "# их пределы\n",
    "# особенно важно для sigma, которое не может быть отрицательным\n",
    "limits = dict(\n",
    "    limit_mean_1 = (-100, 100),\n",
    "    limit_mean_2 = (-100, 100),\n",
    "    limit_sigma_1 = (0, 100),\n",
    "    limit_sigma_2 = (0, 100),\n",
    "    limit_prob = (0., 1.)\n",
    ")\n",
    "\n",
    "# начальный шаг минимизации\n",
    "# если он слишком большой, то не сойдётся минимизация\n",
    "\n",
    "errors = dict(\n",
    "    error_mean_1=0.01,\n",
    "    error_mean_2=0.01,\n",
    "    error_sigma_1=0.01,\n",
    "    error_sigma_2=0.01,\n",
    "    error_prob=0.01,\n",
    ")\n",
    "minuit = Minuit(unbinned_likelihood, **init, **limits, **errors)"
   ]
  },
  {
   "cell_type": "code",
   "execution_count": 10,
   "metadata": {
    "scrolled": true
   },
   "outputs": [
    {
     "data": {
      "text/html": [
       "<hr>"
      ]
     },
     "metadata": {},
     "output_type": "display_data"
    },
    {
     "data": {
      "text/html": [
       "<table>\n",
       "    <tr>\n",
       "        <td title=\"Minimum value of function\">FCN = 26619.824699866924</td>\n",
       "        <td title=\"Total number of call to FCN so far\">TOTAL NCALL = 176</td>\n",
       "        <td title=\"Number of call in last migrad\">NCALLS = 176</td>\n",
       "    </tr>\n",
       "    <tr>\n",
       "        <td title=\"Estimated distance to minimum\">EDM = 7.821290166861375e-07</td>\n",
       "        <td title=\"Maximum EDM definition of convergence\">GOAL EDM = 5e-06</td>\n",
       "        <td title=\"Error def. Amount of increase in FCN to be defined as 1 standard deviation\">\n",
       "        UP = 0.5</td>\n",
       "    </tr>\n",
       "</table>\n",
       "<table>\n",
       "    <tr>\n",
       "        <td align=\"center\" title=\"Validity of the migrad call\">Valid</td>\n",
       "        <td align=\"center\" title=\"Validity of parameters\">Valid Param</td>\n",
       "        <td align=\"center\" title=\"Is Covariance matrix accurate?\">Accurate Covar</td>\n",
       "        <td align=\"center\" title=\"Positive definiteness of covariance matrix\">PosDef</td>\n",
       "        <td align=\"center\" title=\"Was covariance matrix made posdef by adding diagonal element\">Made PosDef</td>\n",
       "    </tr>\n",
       "    <tr>\n",
       "        <td align=\"center\" style=\"background-color:#92CCA6\">True</td>\n",
       "        <td align=\"center\" style=\"background-color:#92CCA6\">True</td>\n",
       "        <td align=\"center\" style=\"background-color:#92CCA6\">True</td>\n",
       "        <td align=\"center\" style=\"background-color:#92CCA6\">True</td>\n",
       "        <td align=\"center\" style=\"background-color:#92CCA6\">False</td>\n",
       "    </tr>\n",
       "    <tr>\n",
       "        <td align=\"center\" title=\"Was last hesse call fail?\">Hesse Fail</td>\n",
       "        <td align=\"center\" title=\"Validity of covariance\">HasCov</td>\n",
       "        <td align=\"center\" title=\"Is EDM above goal EDM?\">Above EDM</td>\n",
       "        <td align=\"center\"></td>\n",
       "        <td align=\"center\" title=\"Did last migrad call reach max call limit?\">Reach calllim</td>\n",
       "    </tr>\n",
       "    <tr>\n",
       "        <td align=\"center\" style=\"background-color:#92CCA6\">False</td>\n",
       "        <td align=\"center\" style=\"background-color:#92CCA6\">True</td>\n",
       "        <td align=\"center\" style=\"background-color:#92CCA6\">False</td>\n",
       "        <td align=\"center\"></td>\n",
       "        <td align=\"center\" style=\"background-color:#92CCA6\">False</td>\n",
       "    </tr>\n",
       "</table>"
      ]
     },
     "metadata": {},
     "output_type": "display_data"
    },
    {
     "data": {
      "text/html": [
       "<table>\n",
       "    <tr>\n",
       "        <td><a href=\"#\" onclick=\"$('#DCzKfQXVvM').toggle()\">+</a></td>\n",
       "        <td title=\"Variable name\">Name</td>\n",
       "        <td title=\"Value of parameter\">Value</td>\n",
       "        <td title=\"Hesse error\">Hesse Error</td>\n",
       "        <td title=\"Minos lower error\">Minos Error-</td>\n",
       "        <td title=\"Minos upper error\">Minos Error+</td>\n",
       "        <td title=\"Lower limit of the parameter\">Limit-</td>\n",
       "        <td title=\"Upper limit of the parameter\">Limit+</td>\n",
       "        <td title=\"Is the parameter fixed in the fit\">Fixed?</td>\n",
       "    </tr>\n",
       "    <tr>\n",
       "        <td>0</td>\n",
       "        <td>mean_1</td>\n",
       "        <td>2.99654</td>\n",
       "        <td>0.0277718</td>\n",
       "        <td></td>\n",
       "        <td></td>\n",
       "        <td>-100</td>\n",
       "        <td>100</td>\n",
       "        <td>No</td>\n",
       "    </tr>\n",
       "    <tr>\n",
       "        <td>1</td>\n",
       "        <td>sigma_1</td>\n",
       "        <td>2.00223</td>\n",
       "        <td>0.0220855</td>\n",
       "        <td></td>\n",
       "        <td></td>\n",
       "        <td>0</td>\n",
       "        <td>100</td>\n",
       "        <td>No</td>\n",
       "    </tr>\n",
       "    <tr>\n",
       "        <td>2</td>\n",
       "        <td>mean_2</td>\n",
       "        <td>-5.01456</td>\n",
       "        <td>0.0464964</td>\n",
       "        <td></td>\n",
       "        <td></td>\n",
       "        <td>-100</td>\n",
       "        <td>100</td>\n",
       "        <td>No</td>\n",
       "    </tr>\n",
       "    <tr>\n",
       "        <td>3</td>\n",
       "        <td>sigma_2</td>\n",
       "        <td>1.9539</td>\n",
       "        <td>0.0346116</td>\n",
       "        <td></td>\n",
       "        <td></td>\n",
       "        <td>0</td>\n",
       "        <td>100</td>\n",
       "        <td>No</td>\n",
       "    </tr>\n",
       "    <tr>\n",
       "        <td>4</td>\n",
       "        <td>prob</td>\n",
       "        <td>0.703191</td>\n",
       "        <td>0.00505764</td>\n",
       "        <td></td>\n",
       "        <td></td>\n",
       "        <td>0</td>\n",
       "        <td>1</td>\n",
       "        <td>No</td>\n",
       "    </tr>\n",
       "</table>\n",
       "<pre id=\"DCzKfQXVvM\" style=\"display:none;\">\n",
       "<textarea rows=\"16\" cols=\"50\" onclick=\"this.select()\" readonly>\n",
       "\\begin{tabular}{|c|r|r|r|r|r|r|r|c|}\n",
       "\\hline\n",
       " & Name & Value & Hesse Error & Minos Error- & Minos Error+ & Limit- & Limit+ & Fixed?\\\\\n",
       "\\hline\n",
       "0 & $mean_{1}$ & 2.99654 & 0.0277718 &  &  & -100.0 & 100 & No\\\\\n",
       "\\hline\n",
       "1 & $\\sigma_{1}$ & 2.00223 & 0.0220855 &  &  & 0.0 & 100 & No\\\\\n",
       "\\hline\n",
       "2 & $mean_{2}$ & -5.01456 & 0.0464964 &  &  & -100.0 & 100 & No\\\\\n",
       "\\hline\n",
       "3 & $\\sigma_{2}$ & 1.9539 & 0.0346116 &  &  & 0.0 & 100 & No\\\\\n",
       "\\hline\n",
       "4 & prob & 0.703191 & 0.00505764 &  &  & 0.0 & 1 & No\\\\\n",
       "\\hline\n",
       "\\end{tabular}\n",
       "</textarea>\n",
       "</pre>"
      ]
     },
     "metadata": {},
     "output_type": "display_data"
    },
    {
     "data": {
      "text/html": [
       "<hr>"
      ]
     },
     "metadata": {},
     "output_type": "display_data"
    },
    {
     "data": {
      "text/plain": [
       "({'fval': 26619.824699866924,\n",
       "  'edm': 7.821290166861375e-07,\n",
       "  'nfcn': 176,\n",
       "  'up': 0.5,\n",
       "  'is_valid': True,\n",
       "  'has_valid_parameters': True,\n",
       "  'has_accurate_covar': True,\n",
       "  'has_posdef_covar': True,\n",
       "  'has_made_posdef_covar': False,\n",
       "  'hesse_failed': False,\n",
       "  'has_covariance': True,\n",
       "  'is_above_max_edm': False,\n",
       "  'has_reached_call_limit': False},\n",
       " [{'number': 0,\n",
       "   'name': 'mean_1',\n",
       "   'value': 2.9965405215121876,\n",
       "   'error': 0.02777175752419936,\n",
       "   'is_const': False,\n",
       "   'is_fixed': False,\n",
       "   'has_limits': True,\n",
       "   'has_lower_limit': True,\n",
       "   'has_upper_limit': True,\n",
       "   'lower_limit': -100.0,\n",
       "   'upper_limit': 100.0},\n",
       "  {'number': 1,\n",
       "   'name': 'sigma_1',\n",
       "   'value': 2.0022323445372137,\n",
       "   'error': 0.022085497786955566,\n",
       "   'is_const': False,\n",
       "   'is_fixed': False,\n",
       "   'has_limits': True,\n",
       "   'has_lower_limit': True,\n",
       "   'has_upper_limit': True,\n",
       "   'lower_limit': 0.0,\n",
       "   'upper_limit': 100.0},\n",
       "  {'number': 2,\n",
       "   'name': 'mean_2',\n",
       "   'value': -5.014561756573912,\n",
       "   'error': 0.046496352081653924,\n",
       "   'is_const': False,\n",
       "   'is_fixed': False,\n",
       "   'has_limits': True,\n",
       "   'has_lower_limit': True,\n",
       "   'has_upper_limit': True,\n",
       "   'lower_limit': -100.0,\n",
       "   'upper_limit': 100.0},\n",
       "  {'number': 3,\n",
       "   'name': 'sigma_2',\n",
       "   'value': 1.9538970424581525,\n",
       "   'error': 0.03461155470588506,\n",
       "   'is_const': False,\n",
       "   'is_fixed': False,\n",
       "   'has_limits': True,\n",
       "   'has_lower_limit': True,\n",
       "   'has_upper_limit': True,\n",
       "   'lower_limit': 0.0,\n",
       "   'upper_limit': 100.0},\n",
       "  {'number': 4,\n",
       "   'name': 'prob',\n",
       "   'value': 0.703191285986299,\n",
       "   'error': 0.0050576384721467416,\n",
       "   'is_const': False,\n",
       "   'is_fixed': False,\n",
       "   'has_limits': True,\n",
       "   'has_lower_limit': True,\n",
       "   'has_upper_limit': True,\n",
       "   'lower_limit': 0.0,\n",
       "   'upper_limit': 1.0}])"
      ]
     },
     "execution_count": 10,
     "metadata": {},
     "output_type": "execute_result"
    }
   ],
   "source": [
    "# первый этап минимизации\n",
    "minuit.migrad()"
   ]
  },
  {
   "cell_type": "code",
   "execution_count": 11,
   "metadata": {
    "scrolled": true
   },
   "outputs": [
    {
     "data": {
      "text/html": [
       "<span>Minos status for mean_1: <span style=\"background-color:#92CCA6\">VALID</span></span>\n",
       "<table>\n",
       "    <tr>\n",
       "        <td title=\"lower and upper minos error of the parameter\">Error</td>\n",
       "        <td>-0.027819359963286414</td>\n",
       "        <td>0.027711096529269792</td>\n",
       "    </tr>\n",
       "    <tr>\n",
       "        <td title=\"Validity of minos error\">Valid</td>\n",
       "        <td style=\"background-color:#92CCA6\">True</td>\n",
       "        <td style=\"background-color:#92CCA6\">True</td>\n",
       "    </tr>\n",
       "    <tr>\n",
       "        <td title=\"Did minos error search hit limit of any parameter?\">At Limit</td>\n",
       "        <td style=\"background-color:#92CCA6\">False</td>\n",
       "        <td style=\"background-color:#92CCA6\">False</td>\n",
       "    </tr>\n",
       "    <tr>\n",
       "        <td title=\"I don't really know what this one means... Post it in issue if you know\">Max FCN</td>\n",
       "        <td style=\"background-color:#92CCA6\">False</td>\n",
       "        <td style=\"background-color:#92CCA6\">False</td>\n",
       "    </tr>\n",
       "    <tr>\n",
       "        <td title=\"New minimum found when doing minos scan.\">New Min</td>\n",
       "        <td style=\"background-color:#92CCA6\">False</td>\n",
       "        <td style=\"background-color:#92CCA6\">False</td>\n",
       "    </tr>\n",
       "</table>"
      ]
     },
     "metadata": {},
     "output_type": "display_data"
    },
    {
     "data": {
      "text/html": [
       "<span>Minos status for sigma_1: <span style=\"background-color:#92CCA6\">VALID</span></span>\n",
       "<table>\n",
       "    <tr>\n",
       "        <td title=\"lower and upper minos error of the parameter\">Error</td>\n",
       "        <td>-0.021470201036264177</td>\n",
       "        <td>0.021832619303863716</td>\n",
       "    </tr>\n",
       "    <tr>\n",
       "        <td title=\"Validity of minos error\">Valid</td>\n",
       "        <td style=\"background-color:#92CCA6\">True</td>\n",
       "        <td style=\"background-color:#92CCA6\">True</td>\n",
       "    </tr>\n",
       "    <tr>\n",
       "        <td title=\"Did minos error search hit limit of any parameter?\">At Limit</td>\n",
       "        <td style=\"background-color:#92CCA6\">False</td>\n",
       "        <td style=\"background-color:#92CCA6\">False</td>\n",
       "    </tr>\n",
       "    <tr>\n",
       "        <td title=\"I don't really know what this one means... Post it in issue if you know\">Max FCN</td>\n",
       "        <td style=\"background-color:#92CCA6\">False</td>\n",
       "        <td style=\"background-color:#92CCA6\">False</td>\n",
       "    </tr>\n",
       "    <tr>\n",
       "        <td title=\"New minimum found when doing minos scan.\">New Min</td>\n",
       "        <td style=\"background-color:#92CCA6\">False</td>\n",
       "        <td style=\"background-color:#92CCA6\">False</td>\n",
       "    </tr>\n",
       "</table>"
      ]
     },
     "metadata": {},
     "output_type": "display_data"
    },
    {
     "data": {
      "text/html": [
       "<span>Minos status for mean_2: <span style=\"background-color:#92CCA6\">VALID</span></span>\n",
       "<table>\n",
       "    <tr>\n",
       "        <td title=\"lower and upper minos error of the parameter\">Error</td>\n",
       "        <td>-0.04607740318113605</td>\n",
       "        <td>0.046786410704771096</td>\n",
       "    </tr>\n",
       "    <tr>\n",
       "        <td title=\"Validity of minos error\">Valid</td>\n",
       "        <td style=\"background-color:#92CCA6\">True</td>\n",
       "        <td style=\"background-color:#92CCA6\">True</td>\n",
       "    </tr>\n",
       "    <tr>\n",
       "        <td title=\"Did minos error search hit limit of any parameter?\">At Limit</td>\n",
       "        <td style=\"background-color:#92CCA6\">False</td>\n",
       "        <td style=\"background-color:#92CCA6\">False</td>\n",
       "    </tr>\n",
       "    <tr>\n",
       "        <td title=\"I don't really know what this one means... Post it in issue if you know\">Max FCN</td>\n",
       "        <td style=\"background-color:#92CCA6\">False</td>\n",
       "        <td style=\"background-color:#92CCA6\">False</td>\n",
       "    </tr>\n",
       "    <tr>\n",
       "        <td title=\"New minimum found when doing minos scan.\">New Min</td>\n",
       "        <td style=\"background-color:#92CCA6\">False</td>\n",
       "        <td style=\"background-color:#92CCA6\">False</td>\n",
       "    </tr>\n",
       "</table>"
      ]
     },
     "metadata": {},
     "output_type": "display_data"
    },
    {
     "data": {
      "text/html": [
       "<span>Minos status for sigma_2: <span style=\"background-color:#92CCA6\">VALID</span></span>\n",
       "<table>\n",
       "    <tr>\n",
       "        <td title=\"lower and upper minos error of the parameter\">Error</td>\n",
       "        <td>-0.034963807858157274</td>\n",
       "        <td>0.036000748616472324</td>\n",
       "    </tr>\n",
       "    <tr>\n",
       "        <td title=\"Validity of minos error\">Valid</td>\n",
       "        <td style=\"background-color:#92CCA6\">True</td>\n",
       "        <td style=\"background-color:#92CCA6\">True</td>\n",
       "    </tr>\n",
       "    <tr>\n",
       "        <td title=\"Did minos error search hit limit of any parameter?\">At Limit</td>\n",
       "        <td style=\"background-color:#92CCA6\">False</td>\n",
       "        <td style=\"background-color:#92CCA6\">False</td>\n",
       "    </tr>\n",
       "    <tr>\n",
       "        <td title=\"I don't really know what this one means... Post it in issue if you know\">Max FCN</td>\n",
       "        <td style=\"background-color:#92CCA6\">False</td>\n",
       "        <td style=\"background-color:#92CCA6\">False</td>\n",
       "    </tr>\n",
       "    <tr>\n",
       "        <td title=\"New minimum found when doing minos scan.\">New Min</td>\n",
       "        <td style=\"background-color:#92CCA6\">False</td>\n",
       "        <td style=\"background-color:#92CCA6\">False</td>\n",
       "    </tr>\n",
       "</table>"
      ]
     },
     "metadata": {},
     "output_type": "display_data"
    },
    {
     "data": {
      "text/html": [
       "<span>Minos status for prob: <span style=\"background-color:#92CCA6\">VALID</span></span>\n",
       "<table>\n",
       "    <tr>\n",
       "        <td title=\"lower and upper minos error of the parameter\">Error</td>\n",
       "        <td>-0.005134395517643754</td>\n",
       "        <td>0.005100476381048678</td>\n",
       "    </tr>\n",
       "    <tr>\n",
       "        <td title=\"Validity of minos error\">Valid</td>\n",
       "        <td style=\"background-color:#92CCA6\">True</td>\n",
       "        <td style=\"background-color:#92CCA6\">True</td>\n",
       "    </tr>\n",
       "    <tr>\n",
       "        <td title=\"Did minos error search hit limit of any parameter?\">At Limit</td>\n",
       "        <td style=\"background-color:#92CCA6\">False</td>\n",
       "        <td style=\"background-color:#92CCA6\">False</td>\n",
       "    </tr>\n",
       "    <tr>\n",
       "        <td title=\"I don't really know what this one means... Post it in issue if you know\">Max FCN</td>\n",
       "        <td style=\"background-color:#92CCA6\">False</td>\n",
       "        <td style=\"background-color:#92CCA6\">False</td>\n",
       "    </tr>\n",
       "    <tr>\n",
       "        <td title=\"New minimum found when doing minos scan.\">New Min</td>\n",
       "        <td style=\"background-color:#92CCA6\">False</td>\n",
       "        <td style=\"background-color:#92CCA6\">False</td>\n",
       "    </tr>\n",
       "</table>"
      ]
     },
     "metadata": {},
     "output_type": "display_data"
    }
   ],
   "source": [
    "# более точный, второй этап минимизации\n",
    "# плюс возвращаются ошибки\n",
    "result = minuit.minos()"
   ]
  },
  {
   "cell_type": "code",
   "execution_count": 12,
   "metadata": {},
   "outputs": [
    {
     "data": {
      "text/plain": [
       "(2.9965405215121876, 3)"
      ]
     },
     "execution_count": 12,
     "metadata": {},
     "output_type": "execute_result"
    }
   ],
   "source": [
    "result['mean_1']['min'], mu_1"
   ]
  },
  {
   "cell_type": "code",
   "execution_count": 13,
   "metadata": {},
   "outputs": [
    {
     "data": {
      "text/plain": [
       "(-5.014561756573912, -5)"
      ]
     },
     "execution_count": 13,
     "metadata": {},
     "output_type": "execute_result"
    }
   ],
   "source": [
    "result['mean_2']['min'], mu_2"
   ]
  },
  {
   "cell_type": "code",
   "execution_count": 14,
   "metadata": {},
   "outputs": [
    {
     "data": {
      "text/plain": [
       "(2.0022323445372137, 2)"
      ]
     },
     "execution_count": 14,
     "metadata": {},
     "output_type": "execute_result"
    }
   ],
   "source": [
    "result['sigma_1']['min'], sigma_1"
   ]
  },
  {
   "cell_type": "code",
   "execution_count": 15,
   "metadata": {},
   "outputs": [
    {
     "data": {
      "text/plain": [
       "(1.9538970424581525, 2)"
      ]
     },
     "execution_count": 15,
     "metadata": {},
     "output_type": "execute_result"
    }
   ],
   "source": [
    "result['sigma_2']['min'], sigma_2"
   ]
  },
  {
   "cell_type": "code",
   "execution_count": 16,
   "metadata": {},
   "outputs": [
    {
     "data": {
      "text/plain": [
       "(0.703191285986299, 0.7)"
      ]
     },
     "execution_count": 16,
     "metadata": {},
     "output_type": "execute_result"
    }
   ],
   "source": [
    "result['prob']['min'], 1 - p"
   ]
  },
  {
   "cell_type": "markdown",
   "metadata": {},
   "source": [
    "### Минимизация с помощью pytorch"
   ]
  },
  {
   "cell_type": "code",
   "execution_count": 17,
   "metadata": {},
   "outputs": [],
   "source": [
    "import torch\n",
    "from torch.distributions.normal import Normal\n",
    "from torch import optim"
   ]
  },
  {
   "cell_type": "code",
   "execution_count": 18,
   "metadata": {},
   "outputs": [],
   "source": [
    "# загружаем данные в pytorch формат\n",
    "data_torch = torch.tensor(dist, dtype=torch.float32)"
   ]
  },
  {
   "cell_type": "code",
   "execution_count": 19,
   "metadata": {},
   "outputs": [],
   "source": [
    "# переменные которые мы будем оптимизировать градиентным спуском\n",
    "mean_1_torch = torch.tensor(-1., requires_grad=True)\n",
    "mean_2_torch = torch.tensor(1., requires_grad=True)\n",
    "sigma_1_torch = torch.tensor(1., requires_grad=True)\n",
    "sigma_2_torch = torch.tensor(1., requires_grad=True)\n",
    "p_torch = torch.tensor(0.5, requires_grad=True)"
   ]
  },
  {
   "cell_type": "code",
   "execution_count": 20,
   "metadata": {},
   "outputs": [],
   "source": [
    "EPS = 1e-8\n",
    "# подсчёт  log-likelihood\n",
    "def log_likelihood_calc(data):\n",
    "    log_probs = (Normal(mean_1_torch, sigma_1_torch).log_prob(data_torch).exp() * p_torch +\n",
    "     Normal(mean_2_torch, sigma_2_torch).log_prob(data_torch).exp() * (1 - p_torch) + EPS).log()\n",
    "    return log_probs.sum()"
   ]
  },
  {
   "cell_type": "code",
   "execution_count": 21,
   "metadata": {},
   "outputs": [],
   "source": [
    "# оптимизатор\n",
    "opt = optim.RMSprop([mean_1_torch, mean_2_torch, sigma_1_torch, sigma_2_torch, p_torch],\n",
    "                    lr=3e-3)\n",
    "\n",
    "log_likelihoods = []\n",
    "for i in range(3000):\n",
    "    # считаем новый likelihood\n",
    "    log_likelihood = -log_likelihood_calc(data_torch)\n",
    "    log_likelihoods.append(-log_likelihood.detach().numpy())\n",
    "    \n",
    "    # обнуляем градиенты с прошлого шага\n",
    "    opt.zero_grad()\n",
    "    # считаем градиенты\n",
    "    log_likelihood.backward()\n",
    "    # делаем шаг\n",
    "    opt.step()"
   ]
  },
  {
   "cell_type": "code",
   "execution_count": 22,
   "metadata": {},
   "outputs": [
    {
     "data": {
      "text/plain": [
       "[<matplotlib.lines.Line2D at 0x7fe25d043198>]"
      ]
     },
     "execution_count": 22,
     "metadata": {},
     "output_type": "execute_result"
    },
    {
     "data": {
      "image/png": "[encoded data removed]",
      "text/plain": [
       "<Figure size 432x288 with 1 Axes>"
      ]
     },
     "metadata": {},
     "output_type": "display_data"
    }
   ],
   "source": [
    "plt.plot(log_likelihoods)"
   ]
  },
  {
   "cell_type": "code",
   "execution_count": 23,
   "metadata": {},
   "outputs": [
    {
     "data": {
      "text/plain": [
       "tensor(-5.0144, requires_grad=True)"
      ]
     },
     "execution_count": 23,
     "metadata": {},
     "output_type": "execute_result"
    }
   ],
   "source": [
    "mean_1_torch"
   ]
  },
  {
   "cell_type": "code",
   "execution_count": 24,
   "metadata": {},
   "outputs": [
    {
     "data": {
      "text/plain": [
       "tensor(1.9560, requires_grad=True)"
      ]
     },
     "execution_count": 24,
     "metadata": {},
     "output_type": "execute_result"
    }
   ],
   "source": [
    "sigma_1_torch"
   ]
  },
  {
   "cell_type": "code",
   "execution_count": 25,
   "metadata": {},
   "outputs": [
    {
     "data": {
      "text/plain": [
       "tensor(2.9966, requires_grad=True)"
      ]
     },
     "execution_count": 25,
     "metadata": {},
     "output_type": "execute_result"
    }
   ],
   "source": [
    "mean_2_torch"
   ]
  },
  {
   "cell_type": "code",
   "execution_count": 26,
   "metadata": {},
   "outputs": [
    {
     "data": {
      "text/plain": [
       "tensor(2.0002, requires_grad=True)"
      ]
     },
     "execution_count": 26,
     "metadata": {},
     "output_type": "execute_result"
    }
   ],
   "source": [
    "sigma_2_torch"
   ]
  },
  {
   "cell_type": "code",
   "execution_count": 27,
   "metadata": {},
   "outputs": [
    {
     "data": {
      "text/plain": [
       "tensor(0.2953, requires_grad=True)"
      ]
     },
     "execution_count": 27,
     "metadata": {},
     "output_type": "execute_result"
    }
   ],
   "source": [
    "p_torch"
   ]
  },
  {
   "cell_type": "code",
   "execution_count": null,
   "metadata": {},
   "outputs": [],
   "source": []
  }
 ],
 "metadata": {
  "kernelspec": {
   "display_name": "Python 3",
   "language": "python",
   "name": "python3"
  },
  "language_info": {
   "codemirror_mode": {
    "name": "ipython",
    "version": 3
   },
   "file_extension": ".py",
   "mimetype": "text/x-python",
   "name": "python",
   "nbconvert_exporter": "python",
   "pygments_lexer": "ipython3",
   "version": "3.6.6"
  }
 },
 "nbformat": 4,
 "nbformat_minor": 2
}
