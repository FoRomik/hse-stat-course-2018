{
 "cells": [
  {
   "cell_type": "markdown",
   "metadata": {},
   "source": [
    "# Семинар 5. Тестрование гипотез:\n",
    "\n",
    "Краткий синопсис:\n",
    "1. Ремайндер прошлого семинара\n",
    "2. Задачки на критерии проверки гипотез\n",
    "3. Вальд против Неймана-Пирсона aka битва за объем тестовой выборки\n",
    "4. АБ тестирование с реальными даннами -- Вальд и Манн-Уитни\n",
    "5. Вальд SRPT\n",
    "6. Семплирование из резервуара. Или чем заменить np.random_choice (https://en.wikipedia.org/wiki/Reservoir_sampling)\n"
   ]
  },
  {
   "cell_type": "markdown",
   "metadata": {},
   "source": [
    "### 1. Задачки на критерии для проверки гипотез"
   ]
  },
  {
   "cell_type": "markdown",
   "metadata": {},
   "source": [
    "а. Построить критерий для проверки гипотезы $H_0: p \\!= 1/2$ при альтернативной гипотезе $H_a : p \\neq  1/2$ по результатам восьми испытаний, подчиняющихся схеме Бернулли. Вероятность ошибки первого рода $\\alpha $ положить равной 0.05.\n",
    "https://www.wolframalpha.com/input/?i=(p%2F(1-p))**x*2**8*(1-p)**8\n",
    "https://www.wolframalpha.com/input/?i=C(8,0)+0.5+*+(1+-+0.5)%5E7"
   ]
  },
  {
   "cell_type": "markdown",
   "metadata": {},
   "source": [
    "b*. Пять независимых одинаково нормально распределенных случайных величин приняли значения: $ [3.02; 2.96; 3.06; 3.07; 2.96] $ соответственно. Проверить гипотезу $H_0:\\sigma^2 \\!= 0.0036 $ при альтернативе $H_a: \\sigma^2 > 0.0036$ при вероятности ошибки первого рода равной $0,01$"
   ]
  },
  {
   "cell_type": "markdown",
   "metadata": {},
   "source": [
    "### 2. Вальд против Неймана-Пирсона aka битва за объем тестовой выборки\n",
    "\n",
    "###### Классический критерий Вальда(kind reminder):\n",
    "\n",
    "$$H_0 : \\theta = \\theta_0 ~~~vs.~~~H_1:\\theta \\ne \\theta_0$$\n",
    "\n",
    "$$W = \\frac{\\hat{\\theta} - \\theta_0}{\\hat{se}} \\rightarrow N(0, 1), ~~~n\\rightarrow \\inf$$\n",
    "\n",
    "###### Критерий Вальда для последовательного анализа:\n",
    "\n",
    "$$Z_i = \\log \\frac{p_0(X_i)}{p_1(X_1)}, ~~ S_k = \\sum\\limits_{i=1}^{k} Z_i$$\n",
    "\n",
    "В нормальном случае:\n",
    "\n",
    "$$Z_i = \\frac{\\mu_1 - \\mu_0}{\\sigma^2} \\left[ X_i - \\frac{\\mu_1 + \\mu_0}{2} \\right]$$\n",
    "\n",
    "###### Критерий Неймана-Пирсона:\n",
    "\n",
    "$$H_0 : \\theta = \\theta_0 ~~~vs.~~~H_1:\\theta = \\theta_1$$\n",
    "\n",
    "$$T = \\frac{\\mathcal{L}(\\theta_1)}{\\mathcal{L}(\\theta_1)} = \\exp\\left[ \\frac{n}{\\sigma^2} (\\mu_1 - \\mu_0) \\left[ \\bar{X} - \\frac{\\mu_1 + \\mu_0}{2} \\right] \\right]$$"
   ]
  },
  {
   "cell_type": "markdown",
   "metadata": {},
   "source": [
    "В данной задаче у нас $H_0$: $\\mu_0 = 0$, $\\sigma = 1$\n",
    "\n",
    "$H_1$: $\\mu_0 = r = 0.1 $, $\\sigma = 1$"
   ]
  },
  {
   "cell_type": "code",
   "execution_count": 9,
   "metadata": {},
   "outputs": [
    {
     "name": "stdout",
     "output_type": "stream",
     "text": [
      "Populating the interactive namespace from numpy and matplotlib\n"
     ]
    },
    {
     "name": "stderr",
     "output_type": "stream",
     "text": [
      "C:\\Users\\kondr\\Anaconda3\\lib\\site-packages\\IPython\\core\\magics\\pylab.py:160: UserWarning: pylab import has clobbered these variables: ['random', 'sample', 'test', 'iterable']\n",
      "`%matplotlib` prevents importing * from pylab and numpy\n",
      "  \"\\n`%matplotlib` prevents importing * from pylab and numpy\"\n"
     ]
    }
   ],
   "source": [
    "%pylab inline\n",
    "# число повторений Монте-Карло\n",
    "replications = 1000\n",
    "\n",
    "# объем выборок, для которого будем вычислять \n",
    "# ошибки 1 и 2 рода\n",
    "sample_lengths = np.arange(10, 1000, 10)"
   ]
  },
  {
   "cell_type": "code",
   "execution_count": 10,
   "metadata": {},
   "outputs": [],
   "source": [
    "# будем проверять \n",
    "r = 0.1\n",
    "sigma = 1."
   ]
  },
  {
   "cell_type": "code",
   "execution_count": 11,
   "metadata": {},
   "outputs": [],
   "source": [
    "def neyman_pearson_compute(sample, r=0.1, sigma=1.):\n",
    "    \"\"\"\n",
    "    Процедура, вычисляющая значение статистики Неймана-Пирсона в случае нормального распределения\n",
    "    \"\"\"\n",
    "    n = len(sample)\n",
    "    X_n = np.sum(sample)\n",
    "    return (r / sigma**2) * (X_n - n * r / 2.0)\n",
    "\n",
    "def neyman_pearson_decide(criterion_value, r=0.1):\n",
    "    \"\"\"\n",
    "    для проверки гипотезы о среднем значении\n",
    "    нормального распределения такой порог h\n",
    "    дает равные вероятности ошибки 1 и 2 рода\n",
    "    \"\"\"\n",
    "    return int(criterion_value > r / 2.0)"
   ]
  },
  {
   "cell_type": "markdown",
   "metadata": {},
   "source": [
    "<img src=\"hyp_right.png\" alt=\"hyp_right\" width=\"400\"/>\n",
    "<img src=\"hyp_wrong.png\" alt=\"hyp_wrong\" width=\"400\"/>"
   ]
  },
  {
   "cell_type": "code",
   "execution_count": 13,
   "metadata": {},
   "outputs": [],
   "source": [
    "def wald_sprt_compute(sample, r=0.1, sigma=1.):\n",
    "    \"\"\"\n",
    "    Расчёт S_k написанных выше\n",
    "    \"\"\"\n",
    "    zetas = [r / sigma**2 * (x - r / 2.0) for x in sample]\n",
    "    return np.cumsum(zetas)\n",
    "\n",
    "def wald_sprt_decide(criterion_values, thresholds):\n",
    "    \"\"\"\n",
    "    Последовательно проверяем гипотезу пока не выйдет за границы\n",
    "    \"\"\"\n",
    "    A, B = thresholds\n",
    "    for value_time, value in enumerate(criterion_values):\n",
    "        if value >= B:\n",
    "            return value_time, 1.0    # верна гипотеза H_1\n",
    "        elif value <= A:\n",
    "            return value_time, 0.0    # верна гипотеза H_0\n",
    "        else:\n",
    "            continue       # продолжать наблюдения\n",
    "    return value_time, 0.0      # по умолчанию не отклоняем гипотезу H_0"
   ]
  },
  {
   "cell_type": "markdown",
   "metadata": {},
   "source": [
    "Код вычисления статистик, относящихся к вероятностям 1 и 2 рода, для критерия Неймана-Пирсона.\n",
    "\n",
    "Для заданного объема выборки вычисляем долю ошибок 1 и 2 рода, она и равна приближенно вероятности этих ошибок."
   ]
  },
  {
   "cell_type": "code",
   "execution_count": 15,
   "metadata": {},
   "outputs": [],
   "source": [
    "wald_sprt_alphas = np.arange(0.01, 0.45, 0.01)\n",
    "wald_sprt_betas = np.arange(0.01, 0.45, 0.01)\n",
    "\n",
    "lower_thresholds = np.log(wald_sprt_betas / (1 - wald_sprt_alphas))\n",
    "upper_thresholds = np.log((1 - wald_sprt_betas) / wald_sprt_alphas)\n",
    "\n",
    "wald_sprt_p0_mean_decision_times = []\n",
    "# wald_sprt_p1_decisions = defaultdict(list)\n",
    "\n",
    "for A, B in zip(lower_thresholds, upper_thresholds):\n",
    "    wald_sprt_p0_decisions = []\n",
    "    wald_sprt_p0_decision_times = []\n",
    "\n",
    "    for replication in range(replications):\n",
    "        # для вычисления ошибки 1 рода (ложная тревога)\n",
    "        # генерируем данные из гипотезы H_0 и вычисляем долю\n",
    "        # решений в пользу гипотезы H_1: alpha = P(H_1 | H_0)\n",
    "        p0_sample = np.random.normal(size=1000)\n",
    "        wald_sprt_values = wald_sprt_compute(p0_sample, r, sigma)\n",
    "        wald_sprt_decision_time, wald_sprt_decision = wald_sprt_decide(wald_sprt_values, thresholds=(A, B))\n",
    "        wald_sprt_p0_decision_times.append(wald_sprt_decision_time)\n",
    "        wald_sprt_p0_decisions.append(wald_sprt_decision)\n",
    "\n",
    "    wald_sprt_p0_mean_decision_times.append(np.mean(wald_sprt_p0_decision_times))"
   ]
  },
  {
   "cell_type": "code",
   "execution_count": 16,
   "metadata": {},
   "outputs": [],
   "source": [
    "neyman_pearson_alphas, neyman_pearson_betas = [], []\n",
    "for sample_len in sample_lengths:\n",
    "    neyman_pearson_p0_decisions = []\n",
    "    neyman_pearson_p1_decisions = []\n",
    "    for replication in range(replications):\n",
    "        # для вычисления ошибки 1 рода (ложная тревога)\n",
    "        # генерируем данные из гипотезы H_0 и вычисляем долю\n",
    "        # решений в пользу гипотезы H_1: alpha = P(H_1 | H_0)\n",
    "        \n",
    "        p0_sample = np.random.normal(size=sample_len)\n",
    "        neyman_pearson_value = neyman_pearson_compute(p0_sample, r, sigma)\n",
    "        neyman_pearson_decision = neyman_pearson_decide(neyman_pearson_value)\n",
    "        neyman_pearson_p0_decisions.append(neyman_pearson_decision)\n",
    "        \n",
    "        # для вычисления ошибки 2 рода (пропуск цели)\n",
    "        # генерируем данные из гипотезы H_1 и вычисляем долю\n",
    "        # решений в пользу гипотезы H_0: beta = P(H_0 | H_1)\n",
    "\n",
    "        p1_sample = np.random.normal(loc=0.1, size=sample_len)\n",
    "        neyman_pearson_value = neyman_pearson_compute(p1_sample, r, sigma)\n",
    "        neyman_pearson_decision = neyman_pearson_decide(neyman_pearson_value, r)\n",
    "        neyman_pearson_p1_decisions.append(neyman_pearson_decision)\n",
    "\n",
    "    neyman_pearson_alphas.append(np.mean(neyman_pearson_p0_decisions))\n",
    "    neyman_pearson_betas.append(1 - np.mean(neyman_pearson_p1_decisions))"
   ]
  },
  {
   "cell_type": "code",
   "execution_count": 17,
   "metadata": {},
   "outputs": [
    {
     "data": {
      "text/plain": [
       "Text(0,0.5,'Probability of type I error')"
      ]
     },
     "execution_count": 17,
     "metadata": {},
     "output_type": "execute_result"
    },
    {
     "data": {
      "image/png": "[encoded data removed]",
      "text/plain": [
       "<matplotlib.figure.Figure at 0x226ec0d80f0>"
      ]
     },
     "metadata": {},
     "output_type": "display_data"
    }
   ],
   "source": [
    "plt.figure(figsize=(10,10))\n",
    "plot(wald_sprt_p0_mean_decision_times, wald_sprt_alphas, label='SPRT')\n",
    "plot(sample_lengths, neyman_pearson_alphas, label='Neyman-Pearson')\n",
    "legend(['Вальд в синих трусах','Нейман-Пирсон в желтых трусах'])\n",
    "xlabel('Number of used observations')\n",
    "ylabel('Probability of type I error')"
   ]
  },
  {
   "cell_type": "markdown",
   "metadata": {},
   "source": [
    "Делаем вывод о том, что на малых выборках жёлтый трус Вальд уничтожает синего труса Пирсона."
   ]
  },
  {
   "cell_type": "markdown",
   "metadata": {},
   "source": [
    "### 4. АB тестирование с реальными даннами - Вальд и Манн-Уитни"
   ]
  },
  {
   "cell_type": "markdown",
   "metadata": {},
   "source": [
    "https://docs.google.com/spreadsheets/d/19de13Thu9Okqx_01n0QLT4Zk_7ZcB6Og76LgxRXpyv0/edit#gid=1651438898\n",
    "\n",
    "https://scholarworks.montana.edu/xmlui/handle/1/3507\n",
    " \n",
    "5 версий сайта.\n",
    "\n",
    "| Версия сайта | Общее количество визитов | Конверсия | Конверсия в процентах |\n",
    "|--------------|--------------------------|-----------|-----------------------|\n",
    "|  Version 1   | 10283                    | 3714      | 36%                   |\n",
    "|  Version 2   | 2742                     | 1587      | 58%                   |\n",
    "| Version 3    | 2747                     | 1652      | 60%                   |\n",
    "| Version 4    | 3180                     | 1717      | 54%                   |\n",
    "| Version 5    | 2064                     | 1348      | 65%                   |\n",
    "\n",
    "Какой же вариант сайта лучше, а какие статистически объяснимые девиации от их своеобразных средних уровней?"
   ]
  },
  {
   "cell_type": "code",
   "execution_count": 1,
   "metadata": {},
   "outputs": [
    {
     "ename": "NameError",
     "evalue": "name 'np' is not defined",
     "output_type": "error",
     "traceback": [
      "\u001b[0;31m---------------------------------------------------------------------------\u001b[0m",
      "\u001b[0;31mNameError\u001b[0m                                 Traceback (most recent call last)",
      "\u001b[0;32m<ipython-input-1-967c338b61e1>\u001b[0m in \u001b[0;36m<module>\u001b[0;34m()\u001b[0m\n\u001b[0;32m----> 1\u001b[0;31m data = np.array([\n\u001b[0m\u001b[1;32m      2\u001b[0m     \u001b[0;34m[\u001b[0m\u001b[0;36m10283\u001b[0m\u001b[0;34m,\u001b[0m \u001b[0;36m3714\u001b[0m\u001b[0;34m]\u001b[0m\u001b[0;34m,\u001b[0m\u001b[0;34m\u001b[0m\u001b[0m\n\u001b[1;32m      3\u001b[0m     \u001b[0;34m[\u001b[0m\u001b[0;36m2742\u001b[0m\u001b[0;34m,\u001b[0m \u001b[0;36m1587\u001b[0m\u001b[0;34m]\u001b[0m\u001b[0;34m,\u001b[0m\u001b[0;34m\u001b[0m\u001b[0m\n\u001b[1;32m      4\u001b[0m     \u001b[0;34m[\u001b[0m\u001b[0;36m2747\u001b[0m\u001b[0;34m,\u001b[0m \u001b[0;36m1652\u001b[0m\u001b[0;34m]\u001b[0m\u001b[0;34m,\u001b[0m\u001b[0;34m\u001b[0m\u001b[0m\n\u001b[1;32m      5\u001b[0m     \u001b[0;34m[\u001b[0m\u001b[0;36m3180\u001b[0m\u001b[0;34m,\u001b[0m \u001b[0;36m1717\u001b[0m\u001b[0;34m]\u001b[0m\u001b[0;34m,\u001b[0m\u001b[0;34m\u001b[0m\u001b[0m\n",
      "\u001b[0;31mNameError\u001b[0m: name 'np' is not defined"
     ]
    }
   ],
   "source": [
    "data = np.array([\n",
    "    [10283, 3714],\n",
    "    [2742, 1587],\n",
    "    [2747, 1652],\n",
    "    [3180, 1717],\n",
    "    [2064, 1348]\n",
    "])\n",
    "\n",
    "alpha = 0.05 / 5 # 5 потому что бонпари"
   ]
  },
  {
   "cell_type": "markdown",
   "metadata": {},
   "source": [
    "###### Критерий Манна-Уитни(из лекции)\n",
    "![](mww.png)"
   ]
  },
  {
   "cell_type": "markdown",
   "metadata": {},
   "source": [
    "##### Критерий Манна-Уитни(крестьянско-рабочее определение)\n",
    "\n",
    "статистика U считается следующим образом: \n",
    "  0. $U_1 = 0$\n",
    "  1. Берутся все пары из двух выборок: $(x_i, y_i)$;\n",
    "  2. Если $x_i > y_i$, то $U_1 += 1$;\n",
    "  3. Если $x_i == y_i$, то $U_1 += 0.5$;\n",
    "  4. Аналогично считается $U_2$ по парам $(y_i, x_i)$;\n",
    "  5. $U = min(U_1, U_2)$\n",
    " \n",
    "При больших размерах выборки:\n",
    "\n",
    "$$U \\sim N\\left(\\frac{mn}{2}, \\frac{mn(n + m + 1)}{12}\\right)$$\n",
    "\n",
    "При большой выборке и возможных ничьих $\\sigma$ считается по-другому:\n",
    "\n",
    "$$\n",
    "\\sigma = \\sqrt{ \\frac{nm}{(m + n) (m + n - 1)} \\cdot \\left[ \\frac{(m + n)^3 - (m + n)}{12} - \\sum \\frac{t_j^3 - t_j}{12} \\right]},\n",
    "$$\n",
    "\n",
    "где $t_j$ -- количество ничьих."
   ]
  },
  {
   "cell_type": "code",
   "execution_count": 30,
   "metadata": {},
   "outputs": [],
   "source": [
    "def mann_whitney(conversion_1, conversion_2, alpha=0.05):\n",
    "    \"\"\"\n",
    "    conversion = (N, n), где N -- общее число визитов, n -- конверсия\n",
    "    True => H_0 отклоняется => средние не равны\n",
    "    \"\"\"\n",
    "    U_1 = conversion_1[1] * (conversion_2[0] - conversion_2[1]) + conversion_1[1] * conversion_2[1] / 2 + (conversion_2[0] - conversion_2[1]) * (conversion_1[0] - conversion_1[1]) / 2\n",
    "    U_2 = conversion_2[1] * (conversion_1[0] - conversion_1[1]) + conversion_1[1] * conversion_2[1] / 2 + (conversion_2[0] - conversion_2[1]) * (conversion_1[0] - conversion_1[1]) / 2\n",
    "    \n",
    "    mean = conversion_1[0] * conversion_2[0] / 2\n",
    "    N = conversion_1[0] + conversion_2[0]\n",
    "    mn = conversion_1[0] * conversion_2[0]\n",
    "    t_1 = (conversion_1[0] - conversion_1[1]) + (conversion_2[0] - conversion_2[1])\n",
    "    t_2 = conversion_1[1] + conversion_2[1]\n",
    "    std = (mn / (N * (N - 1))) * ((N**3 - N) / 12 - \n",
    "                                 (t_1**3 - t_1) / 12 - \n",
    "                                 (t_2**3 - t_2) / 12 )\n",
    "    std = np.sqrt(std)\n",
    "    z = np.abs(min(U_1, U_2) - mean) / std \n",
    "    return z, z > norm.ppf(1 - alpha / 2)"
   ]
  },
  {
   "cell_type": "markdown",
   "metadata": {},
   "source": [
    "##### Классический критерий Вальда\n",
    "![](https://cs10.pikabu.ru/post_img/2018/02/15/8/1518702098172664179.jpg)"
   ]
  },
  {
   "cell_type": "code",
   "execution_count": 31,
   "metadata": {},
   "outputs": [],
   "source": [
    "from scipy.stats import norm\n",
    "def wald_test(conversion_1, conversion_2, alpha=0.05):\n",
    "    \"\"\"\n",
    "    Проверяется Вальд для Бернулли. Hehe, classic\n",
    "    True => H_0 отклоняется => средние не равны\n",
    "    \"\"\"\n",
    "    p_1 = conversion_1[1] / conversion_1[0]\n",
    "    p_2 = conversion_2[1] / conversion_2[0]\n",
    "    se_1 = np.sqrt(p_1 * (1 - p_1) / conversion_1[0])\n",
    "    se_2 = np.sqrt(p_2 * (1 - p_2) / conversion_2[0])\n",
    "    se = np.sqrt(se_1**2 + se_2**2)\n",
    "    return np.abs((p_1 - p_2) / se), np.abs((p_1 - p_2) / se) > norm.ppf(1 - alpha / 2)"
   ]
  },
  {
   "cell_type": "markdown",
   "metadata": {},
   "source": [
    "###### К коллайдеру!\n",
    "<img src=\"https://cs4.pikabu.ru/images/big_size_comm/2014-11_6/1417016267376.png\" alt=\"collaider\" width=\"160\"/>\n",
    "\n"
   ]
  },
  {
   "cell_type": "code",
   "execution_count": 32,
   "metadata": {},
   "outputs": [],
   "source": [
    "alpha = 0.05 / 5"
   ]
  },
  {
   "cell_type": "code",
   "execution_count": 45,
   "metadata": {},
   "outputs": [
    {
     "name": "stdout",
     "output_type": "stream",
     "text": [
      "Requirement already up-to-date: numpy in c:\\users\\kondr\\anaconda3\\lib\\site-packages (1.15.2)\n"
     ]
    },
    {
     "name": "stderr",
     "output_type": "stream",
     "text": [
      "You are using pip version 18.0, however version 18.1 is available.\n",
      "You should consider upgrading via the 'python -m pip install --upgrade pip' command.\n"
     ]
    }
   ],
   "source": [
    "!pip install --upgrade numpy"
   ]
  },
  {
   "cell_type": "code",
   "execution_count": 44,
   "metadata": {
    "scrolled": false
   },
   "outputs": [
    {
     "name": "stdout",
     "output_type": "stream",
     "text": [
      "nan\n",
      "Версия сайта 1 с конверсией 0.36 статистически не отличается от версии 1 с конверсией 0.36\n",
      "\n",
      "556.3420400515743\n",
      "Версия сайта 1 с конверсией 0.36 статистически отличается от версии 2 с конверсией 0.58\n",
      "\n",
      "811.8464495266081\n",
      "Версия сайта 1 с конверсией 0.36 статистически отличается от версии 3 с конверсией 0.60\n",
      "\n",
      "792.7759182393794\n",
      "Версия сайта 1 с конверсией 0.36 статистически отличается от версии 4 с конверсией 0.54\n",
      "\n",
      "2355.0433048603927\n",
      "Версия сайта 1 с конверсией 0.36 статистически отличается от версии 5 с конверсией 0.65\n",
      "\n",
      "556.3420400515743\n",
      "Версия сайта 2 с конверсией 0.58 статистически отличается от версии 1 с конверсией 0.36\n",
      "\n",
      "0.0\n",
      "Версия сайта 2 с конверсией 0.58 статистически не отличается от версии 2 с конверсией 0.58\n",
      "\n",
      "nan\n",
      "Версия сайта 2 с конверсией 0.58 статистически не отличается от версии 3 с конверсией 0.60\n",
      "\n",
      "nan\n",
      "Версия сайта 2 с конверсией 0.58 статистически не отличается от версии 4 с конверсией 0.54\n",
      "\n",
      "34.07580186597283\n",
      "Версия сайта 2 с конверсией 0.58 статистически отличается от версии 5 с конверсией 0.65\n",
      "\n",
      "811.8464495266081\n",
      "Версия сайта 3 с конверсией 0.60 статистически отличается от версии 1 с конверсией 0.36\n",
      "\n",
      "nan\n",
      "Версия сайта 3 с конверсией 0.60 статистически не отличается от версии 2 с конверсией 0.58\n",
      "\n",
      "nan\n",
      "Версия сайта 3 с конверсией 0.60 статистически не отличается от версии 3 с конверсией 0.60\n",
      "\n",
      "34.55185688383162\n",
      "Версия сайта 3 с конверсией 0.60 статистически отличается от версии 4 с конверсией 0.54\n",
      "\n",
      "nan\n",
      "Версия сайта 3 с конверсией 0.60 статистически не отличается от версии 5 с конверсией 0.65\n",
      "\n",
      "792.7759182393794\n",
      "Версия сайта 4 с конверсией 0.54 статистически отличается от версии 1 с конверсией 0.36\n",
      "\n",
      "nan\n",
      "Версия сайта 4 с конверсией 0.54 статистически не отличается от версии 2 с конверсией 0.58\n",
      "\n",
      "34.55185688383162\n",
      "Версия сайта 4 с конверсией 0.54 статистически отличается от версии 3 с конверсией 0.60\n",
      "\n",
      "nan\n",
      "Версия сайта 4 с конверсией 0.54 статистически не отличается от версии 4 с конверсией 0.54\n",
      "\n",
      "nan\n",
      "Версия сайта 4 с конверсией 0.54 статистически не отличается от версии 5 с конверсией 0.65\n",
      "\n",
      "2355.0433048603927\n",
      "Версия сайта 5 с конверсией 0.65 статистически отличается от версии 1 с конверсией 0.36\n",
      "\n",
      "34.07580186597283\n",
      "Версия сайта 5 с конверсией 0.65 статистически отличается от версии 2 с конверсией 0.58\n",
      "\n",
      "nan\n",
      "Версия сайта 5 с конверсией 0.65 статистически не отличается от версии 3 с конверсией 0.60\n",
      "\n",
      "nan\n",
      "Версия сайта 5 с конверсией 0.65 статистически не отличается от версии 4 с конверсией 0.54\n",
      "\n",
      "0.0\n",
      "Версия сайта 5 с конверсией 0.65 статистически не отличается от версии 5 с конверсией 0.65\n",
      "\n"
     ]
    },
    {
     "name": "stderr",
     "output_type": "stream",
     "text": [
      "C:\\Users\\kondr\\Anaconda3\\lib\\site-packages\\ipykernel_launcher.py:17: RuntimeWarning: invalid value encountered in sqrt\n"
     ]
    }
   ],
   "source": [
    "from collections import defaultdict\n",
    "results_mww = defaultdict(lambda: defaultdict(bool))\n",
    "for i in np.arange(len(data)):\n",
    "    for j in np.arange(len(data)):\n",
    "        z, flag = mann_whitney(data[i], data[j], alpha=alpha)\n",
    "        print(z)\n",
    "        results_mww[i][j] = flag\n",
    "        if results_mww[i][j]:\n",
    "            print('Версия сайта {} с конверсией {:.2f} статистически отличается от версии {} с конверсией {:.2f}'.format(i+1, \n",
    "                                                                                              data[i][1] / data[i][0],\n",
    "                                                                                              j+1,\n",
    "                                                                                              data[j][1] / data[j][0]))\n",
    "        else:\n",
    "            print('Версия сайта {} с конверсией {:.2f} статистически не отличается от версии {} с конверсией {:.2f}'.format(i+1, \n",
    "                                                                                 data[i][1] / data[i][0],\n",
    "                                                                                 j+1,\n",
    "                                                                                 data[j][1] / data[j][0]))\n",
    "        print()"
   ]
  },
  {
   "cell_type": "code",
   "execution_count": 42,
   "metadata": {},
   "outputs": [
    {
     "name": "stdout",
     "output_type": "stream",
     "text": [
      "0.0\n",
      "Версия сайта 1 с конверсией 0.36 статистически не отличается от версии 1 с конверсией 0.36\n",
      "\n",
      "20.620895355293204\n",
      "Версия сайта 1 с конверсией 0.36 статистически отличается от версии 2 с конверсией 0.58\n",
      "\n",
      "22.93344269021802\n",
      "Версия сайта 1 с конверсией 0.36 статистически отличается от версии 3 с конверсией 0.60\n",
      "\n",
      "17.826653746799323\n",
      "Версия сайта 1 с конверсией 0.36 статистически отличается от версии 4 с конверсией 0.54\n",
      "\n",
      "25.388815771018628\n",
      "Версия сайта 1 с конверсией 0.36 статистически отличается от версии 5 с конверсией 0.65\n",
      "\n",
      "20.620895355293204\n",
      "Версия сайта 2 с конверсией 0.58 статистически отличается от версии 1 с конверсией 0.36\n",
      "\n",
      "0.0\n",
      "Версия сайта 2 с конверсией 0.58 статистически не отличается от версии 2 с конверсией 0.58\n",
      "\n",
      "1.70333528052776\n",
      "Версия сайта 2 с конверсией 0.58 статистически не отличается от версии 3 с конверсией 0.60\n",
      "\n",
      "3.0051027852151844\n",
      "Версия сайта 2 с конверсией 0.58 статистически отличается от версии 4 с конверсией 0.54\n",
      "\n",
      "5.273099827112846\n",
      "Версия сайта 2 с конверсией 0.58 статистически отличается от версии 5 с конверсией 0.65\n",
      "\n",
      "22.93344269021802\n",
      "Версия сайта 3 с конверсией 0.60 статистически отличается от версии 1 с конверсией 0.36\n",
      "\n",
      "1.70333528052776\n",
      "Версия сайта 3 с конверсией 0.60 статистически не отличается от версии 2 с конверсией 0.58\n",
      "\n",
      "0.0\n",
      "Версия сайта 3 с конверсией 0.60 статистически не отличается от версии 3 с конверсией 0.60\n",
      "\n",
      "4.778062465532534\n",
      "Версия сайта 3 с конверсией 0.60 статистически отличается от версии 4 с конверсией 0.54\n",
      "\n",
      "3.6843963449136043\n",
      "Версия сайта 3 с конверсией 0.60 статистически отличается от версии 5 с конверсией 0.65\n",
      "\n",
      "17.826653746799323\n",
      "Версия сайта 4 с конверсией 0.54 статистически отличается от версии 1 с конверсией 0.36\n",
      "\n",
      "3.0051027852151844\n",
      "Версия сайта 4 с конверсией 0.54 статистически отличается от версии 2 с конверсией 0.58\n",
      "\n",
      "4.778062465532534\n",
      "Версия сайта 4 с конверсией 0.54 статистически отличается от версии 3 с конверсией 0.60\n",
      "\n",
      "0.0\n",
      "Версия сайта 4 с конверсией 0.54 статистически не отличается от версии 4 с конверсией 0.54\n",
      "\n",
      "8.25589342306927\n",
      "Версия сайта 4 с конверсией 0.54 статистически отличается от версии 5 с конверсией 0.65\n",
      "\n",
      "25.388815771018628\n",
      "Версия сайта 5 с конверсией 0.65 статистически отличается от версии 1 с конверсией 0.36\n",
      "\n",
      "5.273099827112846\n",
      "Версия сайта 5 с конверсией 0.65 статистически отличается от версии 2 с конверсией 0.58\n",
      "\n",
      "3.6843963449136043\n",
      "Версия сайта 5 с конверсией 0.65 статистически отличается от версии 3 с конверсией 0.60\n",
      "\n",
      "8.25589342306927\n",
      "Версия сайта 5 с конверсией 0.65 статистически отличается от версии 4 с конверсией 0.54\n",
      "\n",
      "0.0\n",
      "Версия сайта 5 с конверсией 0.65 статистически не отличается от версии 5 с конверсией 0.65\n",
      "\n"
     ]
    }
   ],
   "source": [
    "from collections import defaultdict\n",
    "results_wald = defaultdict(lambda: defaultdict(bool))\n",
    "for i in np.arange(len(data)):\n",
    "    for j in np.arange(len(data)):\n",
    "        z, flag = wald_test(data[i], data[j], alpha=alpha)\n",
    "        print(z)\n",
    "        results_wald[i][j] = flag\n",
    "        if results_wald[i][j]:\n",
    "            print('Версия сайта {} с конверсией {:.2f} статистически отличается от версии {} с конверсией {:.2f}'.format(i+1, \n",
    "                                                                                              data[i][1] / data[i][0],\n",
    "                                                                                              j+1,\n",
    "                                                                                              data[j][1] / data[j][0]))\n",
    "        else:\n",
    "            print('Версия сайта {} с конверсией {:.2f} статистически не отличается от версии {} с конверсией {:.2f}'.format(i+1, \n",
    "                                                                                 data[i][1] / data[i][0],\n",
    "                                                                                 j+1,\n",
    "                                                                                 data[j][1] / data[j][0]))\n",
    "        print()"
   ]
  },
  {
   "cell_type": "markdown",
   "metadata": {},
   "source": [
    "### 5. SRPT"
   ]
  },
  {
   "cell_type": "markdown",
   "metadata": {},
   "source": [
    "Статистика выглядит как $Z_n = \\log \\frac{f_1(x_1, \\ldots, x_n)}{f_0(x_1, \\ldots, x_n)}$.\n",
    "\n",
    "Вероятность ошибок 1-го и 2-го рода:\n",
    "\n",
    "$$\n",
    "\\alpha = P(\\text{принять } H_1 |\\text{ верна } H_0)\n",
    "$$$$\n",
    "\\beta = P(\\text{принять }H_0 |\\text{ верна } H_1)\n",
    "$$\n",
    "\n",
    "\n",
    "Последовательный тест отношения\n",
    "правдоподобия (sequential probability \n",
    "ratio test, SPRT) заключается в вычислении\n",
    "логарифма отношения правдоподобия $Z_n = \\log L_n$\n",
    "(см. выше; в случае независимых наблюдений\n",
    "формулы упрощаются) и сравнении этой величины\n",
    "в каждый момент времени с пороговыми\n",
    "значениями $A < 0, B > 0$, выбранными исходя\n",
    "из заданных вероятностей ошибок 1 и 2 рода.\n",
    "Наблюдения останавливаются в первый\n",
    "момент времени выхода статистики \n",
    "$Z_n$ за <<коридор>> $(A, B)$: \n",
    "\n",
    "$$\n",
    "\\tau_{A,B} = \\inf \\{n \\geqslant 1: \n",
    "Z_n \\notin (A, B)\\}. \n",
    "$$\n",
    "    \n",
    "При этом в каждый момент времени принимается\n",
    "одно из трех решений: \n",
    "\n",
    "$$\n",
    "\\begin{cases}\n",
    "    \\text{если } Z_n \\leqslant A & \\implies\n",
    "        \\text{верна гипотеза } \\mathbb{H}_0, \\\\\n",
    "    \\text{если } Z_n \\geqslant B & \\implies\n",
    "        \\text{верна гипотеза } \\mathbb{H}_1, \\\\\n",
    "    \\text{если } Z_n \\in (A, B) & \\implies\n",
    "        \\text{продолжить наблюдения}.\n",
    "\\end{cases}\n",
    "$$\n",
    "\n",
    "Обычно полагают \n",
    "\n",
    "$$\n",
    "A = \\log \\frac{1 - \\beta}{\\alpha},~B = \\log \\frac{\\beta}{1-\\alpha}\n",
    "$$\n",
    "\n",
    "Исходная постановка:\n",
    "* Данные i.i.d.;\n",
    "* $H_0: x_i \\sim f_0 = \\mathcal{N}(\\mu_0, \\sigma_0)$\n",
    "* $H_1: x_i \\sim f_1 = \\mathcal{N}(\\mu_1, \\sigma_1)$\n",
    "\n",
    "\n",
    "Задача:\n",
    "* Оценить параметры $\\mu_0, \\sigma_0$ по данным train. $\\mu_1 = 1, \\sigma_1 = \\sigma_0$\n",
    "* Зафиксируйте ошибку 2-го рода $\\beta$\n",
    "* Построить статистику SRPT. Построить график зависимости среднего времени задержки от вероятности ложной тревоги ($\\alpha$)"
   ]
  },
  {
   "cell_type": "code",
   "execution_count": 36,
   "metadata": {},
   "outputs": [
    {
     "name": "stdout",
     "output_type": "stream",
     "text": [
      "Requirement already satisfied: sprt in c:\\users\\kondr\\anaconda3\\lib\\site-packages (0.0.1)\n"
     ]
    },
    {
     "name": "stderr",
     "output_type": "stream",
     "text": [
      "You are using pip version 18.0, however version 18.1 is available.\n",
      "You should consider upgrading via the 'python -m pip install --upgrade pip' command.\n"
     ]
    }
   ],
   "source": [
    "!pip install sprt"
   ]
  },
  {
   "cell_type": "code",
   "execution_count": 37,
   "metadata": {},
   "outputs": [
    {
     "name": "stdout",
     "output_type": "stream",
     "text": [
      "Decision:\tAccept\n",
      "\n",
      "    values  lower  upper\n",
      "n                       \n",
      "1    0.920 -1.058  3.273\n",
      "2   -0.012 -0.558  3.773\n",
      "3    0.291 -0.058  4.273\n",
      "4    0.001  0.442  4.773\n",
      "5    0.096  0.942  5.273\n",
      "6   -1.918  1.442  5.773\n",
      "7   -1.906  1.942  6.273\n",
      "8   -1.013  2.442  6.773\n",
      "9    1.271  2.942  7.273\n",
      "10   0.603  3.442  7.773\n"
     ]
    }
   ],
   "source": [
    "import sprt as sprt\n",
    "import numpy as np\n",
    "test = sprt.SPRTNormal(alpha = 0.05, beta = 0.2, h0 = 0, h1 = 1, values = np.random.normal(0, 1, 10), variance = 1)"
   ]
  },
  {
   "cell_type": "code",
   "execution_count": 38,
   "metadata": {},
   "outputs": [
    {
     "data": {
      "image/png": "[encoded data removed]",
      "text/plain": [
       "<matplotlib.figure.Figure at 0x226edb9b978>"
      ]
     },
     "metadata": {},
     "output_type": "display_data"
    }
   ],
   "source": [
    "test.plot()"
   ]
  },
  {
   "cell_type": "code",
   "execution_count": 39,
   "metadata": {},
   "outputs": [
    {
     "name": "stdout",
     "output_type": "stream",
     "text": [
      "Decision:\tAccept\n",
      "\n",
      "      values    lower    upper\n",
      "n                             \n",
      "991  -20.599  380.232  759.406\n",
      "992  -20.015  380.732  759.906\n",
      "993  -20.748  381.232  760.406\n",
      "994  -20.258  381.732  760.906\n",
      "995  -20.100  382.232  761.406\n",
      "996  -19.932  382.732  761.906\n",
      "997  -18.447  383.232  762.406\n",
      "998  -19.012  383.732  762.906\n",
      "999  -19.606  384.232  763.406\n",
      "1000 -18.406  384.732  763.906\n"
     ]
    }
   ],
   "source": [
    "# увеличим количество сэмплов и их variance\n",
    "test = sprt.SPRTNormal(alpha = 0.05, beta = 0.3, h0 = 0, h1 = 1, values = np.random.normal(0, 1, 1000), variance = 100)"
   ]
  },
  {
   "cell_type": "code",
   "execution_count": 40,
   "metadata": {},
   "outputs": [
    {
     "data": {
      "image/png": "[encoded data removed]",
      "text/plain": [
       "<matplotlib.figure.Figure at 0x226edc072e8>"
      ]
     },
     "metadata": {},
     "output_type": "display_data"
    }
   ],
   "source": [
    "test.plot()"
   ]
  },
  {
   "cell_type": "markdown",
   "metadata": {},
   "source": [
    "### 5*. Reservoir sampling"
   ]
  },
  {
   "cell_type": "code",
   "execution_count": 46,
   "metadata": {},
   "outputs": [],
   "source": [
    "import random\n",
    "\n",
    "def sample(iterable, n):\n",
    "    \"\"\"\n",
    "    Sourse: Knuth, 1981\n",
    "    Returns @param n random items from @param iterable.\n",
    "    \"\"\"\n",
    "    reservoir = []\n",
    "    for t, item in enumerate(iterable):\n",
    "        if t < n:\n",
    "            reservoir.append(item)\n",
    "        else:\n",
    "            m = random.randint(0,t)\n",
    "            if m < n:\n",
    "                reservoir[m] = item\n",
    "    return reservoir"
   ]
  },
  {
   "cell_type": "code",
   "execution_count": 48,
   "metadata": {},
   "outputs": [],
   "source": [
    "iterable=[7,4,3,5,5,9,2,34,0,4,3,5,34,3,4,3,21,5,7,3,1,1,1,111,2,5,7,6,99,99,97,3,3]\n",
    "n=10\n",
    "res=sample(iterable, n)"
   ]
  },
  {
   "cell_type": "code",
   "execution_count": 49,
   "metadata": {},
   "outputs": [
    {
     "data": {
      "text/plain": [
       "[7, 4, 3, 7, 99, 5, 3, 7, 3, 4]"
      ]
     },
     "execution_count": 49,
     "metadata": {},
     "output_type": "execute_result"
    }
   ],
   "source": [
    "res"
   ]
  },
  {
   "cell_type": "code",
   "execution_count": null,
   "metadata": {},
   "outputs": [],
   "source": []
  }
 ],
 "metadata": {
  "kernelspec": {
   "display_name": "Python 3",
   "language": "python",
   "name": "python3"
  },
  "language_info": {
   "codemirror_mode": {
    "name": "ipython",
    "version": 3
   },
   "file_extension": ".py",
   "mimetype": "text/x-python",
   "name": "python",
   "nbconvert_exporter": "python",
   "pygments_lexer": "ipython3",
   "version": "3.6.6"
  }
 },
 "nbformat": 4,
 "nbformat_minor": 2
}
